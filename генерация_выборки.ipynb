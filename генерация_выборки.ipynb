{
 "cells": [
  {
   "cell_type": "code",
   "execution_count": null,
   "metadata": {},
   "outputs": [],
   "source": [
    "import random\n",
    "import xml.etree.ElementTree as ET\n",
    "\n",
    "# Создаем корневой элемент\n",
    "root = ET.Element(\"Отчетность\")\n",
    "\n",
    "# Генерируем данные для 10 компаний\n",
    "for j in range (2017, 2023):\n",
    "\n",
    "    for i in range(100):\n",
    "        company = ET.SubElement(root, \"Компания\")\n",
    "        company.set(\"Название\", f\"Компания {i+1}\")\n",
    "\n",
    "        # Генерируем показатели\n",
    "        report_date = j\n",
    "        assets = random.randint(100000, 1000000)\n",
    "        liabilities = random.randint(50000, assets)\n",
    "        microloans_count = random.randint(5, 50)\n",
    "        microloans_amount = random.randint(10000, 100000)\n",
    "        funds_raised = random.randint(50000, 200000)\n",
    "        debt_repayment = random.randint(10000, 50000)\n",
    "\n",
    "        indicators = ET.SubElement(company, \"Показатели\")\n",
    "        indicators.set(\"Отчетная_дата\", str(report_date))\n",
    "        indicators.set(\"Сумма_активов\", str(assets))\n",
    "        indicators.set(\"Сумма_обязательств\", str(liabilities))\n",
    "        indicators.set(\"Количество_выданных_микрозаймов\", str(microloans_count))\n",
    "        indicators.set(\"Сумма_выданных_микрозаймов\", str(microloans_amount))\n",
    "        indicators.set(\"Сумма_привлеченных_денежных_средств\", str(funds_raised))\n",
    "        indicators.set(\"Сумма_денежных_средств_поступивших_в_счет_погашения_задолженности\", str(debt_repayment))\n",
    "\n",
    "# Создаем XML документ\n",
    "tree = ET.ElementTree(root)\n",
    "tree.write(\"отчетность.xml\", encoding=\"utf-8\", xml_declaration=True)\n",
    "\n",
    "print(\"XML файл успешно создан.\")"
   ]
  }
 ],
 "metadata": {
  "language_info": {
   "name": "python"
  }
 },
 "nbformat": 4,
 "nbformat_minor": 2
}
