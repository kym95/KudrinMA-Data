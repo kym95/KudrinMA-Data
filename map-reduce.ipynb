{
 "cells": [
  {
   "cell_type": "code",
   "execution_count": null,
   "metadata": {},
   "outputs": [],
   "source": [
    "\n",
    "from mrjob.job import MRJob\n",
    "import xml.etree.ElementTree as ET\n",
    "\n",
    "class ReportQualityMR(MRJob):\n",
    "\n",
    "    def mapper(self, _, line):\n",
    "        root = ET.fromstring(line)\n",
    "        org_name = root.find('Название').text\n",
    "        report_date = root.find('Отчетная_дата').text\n",
    "        # Предположим, что качество отчетности оценивается по наличию заполненных полей \"Сумма_активов\" и \"Сумма_обязательств\"\n",
    "        assets = root.find('Сумма_активов').text\n",
    "        liabilities = root.find('Сумма_обязательств').text\n",
    "\n",
    "        if assets and liabilities:\n",
    "            quality_score = 10  \n",
    "        else:\n",
    "            quality_score = 1  \n",
    "\n",
    "        yield org_name, (report_date, quality_score)\n",
    "\n",
    "    def reducer(self, org_name, values):\n",
    "        total_score = 0\n",
    "        count = 0\n",
    "\n",
    "        for report_date, quality_score in values:\n",
    "            total_score += quality_score\n",
    "            count += 1\n",
    "\n",
    "        avg_quality = total_score / count if count > 0 else 0\n",
    "\n",
    "        yield org_name, avg_quality\n",
    "\n",
    "if __name__ == '__main__':\n",
    "    ReportQualityMR.run()"
   ]
  }
 ],
 "metadata": {
  "language_info": {
   "name": "python"
  }
 },
 "nbformat": 4,
 "nbformat_minor": 2
}
